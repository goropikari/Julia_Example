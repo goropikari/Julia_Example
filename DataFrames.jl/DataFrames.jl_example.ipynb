{
 "cells": [
  {
   "cell_type": "code",
   "execution_count": 2,
   "metadata": {
    "collapsed": true
   },
   "outputs": [],
   "source": [
    "using DataFrames"
   ]
  },
  {
   "cell_type": "code",
   "execution_count": 3,
   "metadata": {
    "collapsed": false
   },
   "outputs": [
    {
     "data": {
      "text/html": [
       "<table class=\"data-frame\"><thead><tr><th></th><th>ID</th><th>exam1</th><th>exam2</th></tr></thead><tbody><tr><th>1</th><td>1</td><td>31</td><td>61</td></tr><tr><th>2</th><td>2</td><td>70</td><td>54</td></tr><tr><th>3</th><td>3</td><td>61</td><td>36</td></tr><tr><th>4</th><td>4</td><td>77</td><td>91</td></tr><tr><th>5</th><td>5</td><td>46</td><td>29</td></tr><tr><th>6</th><td>6</td><td>40</td><td>59</td></tr><tr><th>7</th><td>7</td><td>80</td><td>99</td></tr><tr><th>8</th><td>8</td><td>67</td><td>52</td></tr><tr><th>9</th><td>9</td><td>80</td><td>72</td></tr><tr><th>10</th><td>10</td><td>1</td><td>4</td></tr></tbody></table>"
      ],
      "text/plain": [
       "10×3 DataFrames.DataFrame\n",
       "│ Row │ ID │ exam1 │ exam2 │\n",
       "├─────┼────┼───────┼───────┤\n",
       "│ 1   │ 1  │ 31    │ 61    │\n",
       "│ 2   │ 2  │ 70    │ 54    │\n",
       "│ 3   │ 3  │ 61    │ 36    │\n",
       "│ 4   │ 4  │ 77    │ 91    │\n",
       "│ 5   │ 5  │ 46    │ 29    │\n",
       "│ 6   │ 6  │ 40    │ 59    │\n",
       "│ 7   │ 7  │ 80    │ 99    │\n",
       "│ 8   │ 8  │ 67    │ 52    │\n",
       "│ 9   │ 9  │ 80    │ 72    │\n",
       "│ 10  │ 10 │ 1     │ 4     │"
      ]
     },
     "execution_count": 3,
     "metadata": {},
     "output_type": "execute_result"
    }
   ],
   "source": [
    "df = readtable(\"scores.csv\") # read CSV file\n",
    "head(df, 10) # show 10 rows"
   ]
  },
  {
   "cell_type": "code",
   "execution_count": 4,
   "metadata": {
    "collapsed": false
   },
   "outputs": [
    {
     "data": {
      "text/plain": [
       "100-element DataArrays.DataArray{Int64,1}:\n",
       " 31\n",
       " 70\n",
       " 61\n",
       " 77\n",
       " 46\n",
       " 40\n",
       " 80\n",
       " 67\n",
       " 80\n",
       "  1\n",
       " 23\n",
       " 79\n",
       " 16\n",
       "  ⋮\n",
       " 95\n",
       " 15\n",
       " 72\n",
       " 45\n",
       "  1\n",
       " 50\n",
       " 79\n",
       " 20\n",
       " 97\n",
       " 15\n",
       " 96\n",
       " 73"
      ]
     },
     "execution_count": 4,
     "metadata": {},
     "output_type": "execute_result"
    }
   ],
   "source": [
    "# single column\n",
    "df[:exam1]\n",
    "# df[2]\n",
    "# df[:,2] # like a normal array"
   ]
  },
  {
   "cell_type": "code",
   "execution_count": 5,
   "metadata": {
    "collapsed": false
   },
   "outputs": [
    {
     "data": {
      "text/html": [
       "<table class=\"data-frame\"><thead><tr><th></th><th>exam1</th><th>exam2</th></tr></thead><tbody><tr><th>1</th><td>31</td><td>61</td></tr><tr><th>2</th><td>70</td><td>54</td></tr><tr><th>3</th><td>61</td><td>36</td></tr><tr><th>4</th><td>77</td><td>91</td></tr><tr><th>5</th><td>46</td><td>29</td></tr><tr><th>6</th><td>40</td><td>59</td></tr><tr><th>7</th><td>80</td><td>99</td></tr><tr><th>8</th><td>67</td><td>52</td></tr><tr><th>9</th><td>80</td><td>72</td></tr><tr><th>10</th><td>1</td><td>4</td></tr><tr><th>11</th><td>23</td><td>4</td></tr><tr><th>12</th><td>79</td><td>86</td></tr><tr><th>13</th><td>16</td><td>1</td></tr><tr><th>14</th><td>54</td><td>52</td></tr><tr><th>15</th><td>5</td><td>35</td></tr><tr><th>16</th><td>75</td><td>76</td></tr><tr><th>17</th><td>11</td><td>30</td></tr><tr><th>18</th><td>42</td><td>64</td></tr><tr><th>19</th><td>51</td><td>63</td></tr><tr><th>20</th><td>42</td><td>58</td></tr><tr><th>21</th><td>63</td><td>59</td></tr><tr><th>22</th><td>43</td><td>34</td></tr><tr><th>23</th><td>89</td><td>76</td></tr><tr><th>24</th><td>38</td><td>32</td></tr><tr><th>25</th><td>1</td><td>19</td></tr><tr><th>26</th><td>69</td><td>92</td></tr><tr><th>27</th><td>40</td><td>33</td></tr><tr><th>28</th><td>75</td><td>79</td></tr><tr><th>29</th><td>61</td><td>12</td></tr><tr><th>30</th><td>68</td><td>85</td></tr><tr><th>&vellip;</th><td>&vellip;</td><td>&vellip;</td></tr></tbody></table>"
      ],
      "text/plain": [
       "100×2 DataFrames.DataFrame\n",
       "│ Row │ exam1 │ exam2 │\n",
       "├─────┼───────┼───────┤\n",
       "│ 1   │ 31    │ 61    │\n",
       "│ 2   │ 70    │ 54    │\n",
       "│ 3   │ 61    │ 36    │\n",
       "│ 4   │ 77    │ 91    │\n",
       "│ 5   │ 46    │ 29    │\n",
       "│ 6   │ 40    │ 59    │\n",
       "│ 7   │ 80    │ 99    │\n",
       "│ 8   │ 67    │ 52    │\n",
       "│ 9   │ 80    │ 72    │\n",
       "│ 10  │ 1     │ 4     │\n",
       "│ 11  │ 23    │ 4     │\n",
       "⋮\n",
       "│ 89  │ 95    │ 97    │\n",
       "│ 90  │ 15    │ 2     │\n",
       "│ 91  │ 72    │ 88    │\n",
       "│ 92  │ 45    │ 45    │\n",
       "│ 93  │ 1     │ 9     │\n",
       "│ 94  │ 50    │ 39    │\n",
       "│ 95  │ 79    │ 88    │\n",
       "│ 96  │ 20    │ 26    │\n",
       "│ 97  │ 97    │ 63    │\n",
       "│ 98  │ 15    │ 23    │\n",
       "│ 99  │ 96    │ 92    │\n",
       "│ 100 │ 73    │ 93    │"
      ]
     },
     "execution_count": 5,
     "metadata": {},
     "output_type": "execute_result"
    }
   ],
   "source": [
    "# multi columns\n",
    "df[[:exam1, :exam2]]"
   ]
  },
  {
   "cell_type": "code",
   "execution_count": 6,
   "metadata": {
    "collapsed": false
   },
   "outputs": [
    {
     "name": "stdout",
     "output_type": "stream",
     "text": [
      "ID\n",
      "Min      1.0\n",
      "1st Qu.  25.75\n",
      "Median   50.5\n",
      "Mean     50.5\n",
      "3rd Qu.  75.25\n",
      "Max      100.0\n",
      "NAs      0\n",
      "NA%      0.0%\n",
      "\n",
      "exam1\n",
      "Min      1.0\n",
      "1st Qu.  19.0\n",
      "Median   51.5\n",
      "Mean     47.64\n",
      "3rd Qu.  71.0\n",
      "Max      97.0\n",
      "NAs      0\n",
      "NA%      0.0%\n",
      "\n",
      "exam2\n",
      "Min      0.0\n",
      "1st Qu.  27.0\n",
      "Median   49.0\n",
      "Mean     49.97\n",
      "3rd Qu.  76.0\n",
      "Max      99.0\n",
      "NAs      0\n",
      "NA%      0.0%\n",
      "\n"
     ]
    }
   ],
   "source": [
    "# calculate statistical quantity\n",
    "describe(df)"
   ]
  },
  {
   "cell_type": "code",
   "execution_count": 7,
   "metadata": {
    "collapsed": false
   },
   "outputs": [
    {
     "data": {
      "text/html": [
       "<table class=\"data-frame\"><thead><tr><th></th><th>ID</th><th>exam1</th><th>exam2</th><th>zscore1</th></tr></thead><tbody><tr><th>1</th><td>1</td><td>31</td><td>61</td><td>-0.5899275202537185</td></tr><tr><th>2</th><td>2</td><td>70</td><td>54</td><td>0.7927151053409343</td></tr><tr><th>3</th><td>3</td><td>61</td><td>36</td><td>0.47364373020370665</td></tr><tr><th>4</th><td>4</td><td>77</td><td>91</td><td>1.0408817304476667</td></tr><tr><th>5</th><td>5</td><td>46</td><td>29</td><td>-0.05814189502500593</td></tr><tr><th>6</th><td>6</td><td>40</td><td>59</td><td>-0.270856145116491</td></tr></tbody></table>"
      ],
      "text/plain": [
       "6×4 DataFrames.DataFrame\n",
       "│ Row │ ID │ exam1 │ exam2 │ zscore1    │\n",
       "├─────┼────┼───────┼───────┼────────────┤\n",
       "│ 1   │ 1  │ 31    │ 61    │ -0.589928  │\n",
       "│ 2   │ 2  │ 70    │ 54    │ 0.792715   │\n",
       "│ 3   │ 3  │ 61    │ 36    │ 0.473644   │\n",
       "│ 4   │ 4  │ 77    │ 91    │ 1.04088    │\n",
       "│ 5   │ 5  │ 46    │ 29    │ -0.0581419 │\n",
       "│ 6   │ 6  │ 40    │ 59    │ -0.270856  │"
      ]
     },
     "execution_count": 7,
     "metadata": {},
     "output_type": "execute_result"
    }
   ],
   "source": [
    "# add columns\n",
    "df[:zscore1] = zscore(df[:exam1])\n",
    "head(df)"
   ]
  },
  {
   "cell_type": "code",
   "execution_count": 8,
   "metadata": {
    "collapsed": false
   },
   "outputs": [
    {
     "data": {
      "text/html": [
       "<table class=\"data-frame\"><thead><tr><th></th><th>exam1</th><th>exam2</th><th>zscore1</th></tr></thead><tbody><tr><th>1</th><td>31</td><td>61</td><td>-0.5899275202537185</td></tr><tr><th>2</th><td>70</td><td>54</td><td>0.7927151053409343</td></tr><tr><th>3</th><td>61</td><td>36</td><td>0.47364373020370665</td></tr><tr><th>4</th><td>77</td><td>91</td><td>1.0408817304476667</td></tr><tr><th>5</th><td>46</td><td>29</td><td>-0.05814189502500593</td></tr><tr><th>6</th><td>40</td><td>59</td><td>-0.270856145116491</td></tr></tbody></table>"
      ],
      "text/plain": [
       "6×3 DataFrames.DataFrame\n",
       "│ Row │ exam1 │ exam2 │ zscore1    │\n",
       "├─────┼───────┼───────┼────────────┤\n",
       "│ 1   │ 31    │ 61    │ -0.589928  │\n",
       "│ 2   │ 70    │ 54    │ 0.792715   │\n",
       "│ 3   │ 61    │ 36    │ 0.473644   │\n",
       "│ 4   │ 77    │ 91    │ 1.04088    │\n",
       "│ 5   │ 46    │ 29    │ -0.0581419 │\n",
       "│ 6   │ 40    │ 59    │ -0.270856  │"
      ]
     },
     "execution_count": 8,
     "metadata": {},
     "output_type": "execute_result"
    }
   ],
   "source": [
    "# delete column\n",
    "delete!(df, :ID)\n",
    "head(df)"
   ]
  },
  {
   "cell_type": "code",
   "execution_count": 9,
   "metadata": {
    "collapsed": false
   },
   "outputs": [
    {
     "data": {
      "text/html": [
       "<table class=\"data-frame\"><thead><tr><th></th><th>Exam1</th><th>exam2</th><th>zscore1</th></tr></thead><tbody><tr><th>1</th><td>31</td><td>61</td><td>-0.5899275202537185</td></tr><tr><th>2</th><td>70</td><td>54</td><td>0.7927151053409343</td></tr><tr><th>3</th><td>61</td><td>36</td><td>0.47364373020370665</td></tr><tr><th>4</th><td>77</td><td>91</td><td>1.0408817304476667</td></tr><tr><th>5</th><td>46</td><td>29</td><td>-0.05814189502500593</td></tr><tr><th>6</th><td>40</td><td>59</td><td>-0.270856145116491</td></tr></tbody></table>"
      ],
      "text/plain": [
       "6×3 DataFrames.DataFrame\n",
       "│ Row │ Exam1 │ exam2 │ zscore1    │\n",
       "├─────┼───────┼───────┼────────────┤\n",
       "│ 1   │ 31    │ 61    │ -0.589928  │\n",
       "│ 2   │ 70    │ 54    │ 0.792715   │\n",
       "│ 3   │ 61    │ 36    │ 0.473644   │\n",
       "│ 4   │ 77    │ 91    │ 1.04088    │\n",
       "│ 5   │ 46    │ 29    │ -0.0581419 │\n",
       "│ 6   │ 40    │ 59    │ -0.270856  │"
      ]
     },
     "execution_count": 9,
     "metadata": {},
     "output_type": "execute_result"
    }
   ],
   "source": [
    "# rename column\n",
    "rename!(df, :exam1, :Exam1)\n",
    "head(df)"
   ]
  },
  {
   "cell_type": "code",
   "execution_count": 10,
   "metadata": {
    "collapsed": false
   },
   "outputs": [
    {
     "data": {
      "text/plain": [
       "3-element Array{Any,1}:\n",
       " [47.64]       \n",
       " [49.97]       \n",
       " [-4.44089e-18]"
      ]
     },
     "execution_count": 10,
     "metadata": {},
     "output_type": "execute_result"
    }
   ],
   "source": [
    "# apply function to column-wise\n",
    "colwise(mean, df)"
   ]
  },
  {
   "cell_type": "code",
   "execution_count": null,
   "metadata": {
    "collapsed": true
   },
   "outputs": [],
   "source": []
  }
 ],
 "metadata": {
  "kernelspec": {
   "display_name": "Julia 0.5.0",
   "language": "julia",
   "name": "julia-0.5"
  },
  "language_info": {
   "file_extension": ".jl",
   "mimetype": "application/julia",
   "name": "julia",
   "version": "0.5.0"
  }
 },
 "nbformat": 4,
 "nbformat_minor": 2
}
